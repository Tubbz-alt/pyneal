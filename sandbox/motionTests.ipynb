{
 "cells": [
  {
   "cell_type": "code",
   "execution_count": 1,
   "metadata": {},
   "outputs": [
    {
     "name": "stdout",
     "output_type": "stream",
     "text": [
      "Populating the interactive namespace from numpy and matplotlib\n"
     ]
    }
   ],
   "source": [
    "import os\n",
    "from os.path import join\n",
    "import sys\n",
    "# from cStringIO import StringIO\n",
    "import contextlib\n",
    "\n",
    "import time\n",
    "import numpy as np\n",
    "from nipy.algorithms.registration import HistogramRegistration, Rigid\n",
    "import nibabel as nib\n",
    "\n",
    "\n",
    "%pylab inline"
   ]
  },
  {
   "cell_type": "code",
   "execution_count": 12,
   "metadata": {},
   "outputs": [],
   "source": [
    "import io"
   ]
  },
  {
   "cell_type": "code",
   "execution_count": 2,
   "metadata": {
    "collapsed": true
   },
   "outputs": [],
   "source": [
    "# load an example functional image\n",
    "img = nib.load('tests/GE_func_s1925.nii.gz')"
   ]
  },
  {
   "cell_type": "code",
   "execution_count": 3,
   "metadata": {},
   "outputs": [
    {
     "data": {
      "text/plain": [
       "(64, 64, 18, 60)"
      ]
     },
     "execution_count": 3,
     "metadata": {},
     "output_type": "execute_result"
    }
   ],
   "source": [
    "img.get_data().shape"
   ]
  },
  {
   "cell_type": "code",
   "execution_count": 4,
   "metadata": {
    "collapsed": true
   },
   "outputs": [],
   "source": [
    "# create a reference volume and a test volume\n",
    "affine = img.affine\n",
    "\n",
    "refVol = img.get_data()[:,:,:,0]\n",
    "refVol = nib.Nifti1Image(refVol, affine)"
   ]
  },
  {
   "cell_type": "code",
   "execution_count": 5,
   "metadata": {},
   "outputs": [
    {
     "data": {
      "text/plain": [
       "array([[  2.99403310e+00,  -1.83411002e-01,  -5.83411753e-02,\n",
       "         -8.58351822e+01],\n",
       "       [  1.56465605e-01,   2.81301904e+00,  -1.30558825e+00,\n",
       "         -5.56155281e+01],\n",
       "       [  1.06205396e-01,   1.02629399e+00,   3.56818247e+00,\n",
       "         -8.16833649e+01],\n",
       "       [  0.00000000e+00,   0.00000000e+00,   0.00000000e+00,\n",
       "          1.00000000e+00]])"
      ]
     },
     "execution_count": 5,
     "metadata": {},
     "output_type": "execute_result"
    }
   ],
   "source": [
    "affine"
   ]
  },
  {
   "cell_type": "markdown",
   "metadata": {},
   "source": [
    "## estimate motion params between each timepoint and the reference vol\n",
    "build a function that can be computed on each volume and will return the transformation between \n",
    "the current volume and the reference volume. This will allow you to tweak motion estimate parameters\n",
    "in a way to find the fasted estimate"
   ]
  },
  {
   "cell_type": "code",
   "execution_count": 44,
   "metadata": {
    "collapsed": true
   },
   "outputs": [],
   "source": [
    "@contextlib.contextmanager\n",
    "def nostdout():\n",
    "    save_stdout = sys.stdout\n",
    "    sys.stdout = io.StringIO()\n",
    "    yield\n",
    "    sys.stdout = save_stdout\n",
    "\n",
    "\n",
    "def estimateMotion(refVol, vol, T_estimate):\n",
    "    \"\"\"\n",
    "    input vols should be nibabel Nifti1 images\n",
    "    \"\"\"\n",
    "    reg = HistogramRegistration(vol, refVol, interp='tri', from_bins=128)\n",
    "    T = reg.optimize(T_estimate, fhess=fhess)\n",
    "\n",
    "    return T\n",
    "    "
   ]
  },
  {
   "cell_type": "code",
   "execution_count": 45,
   "metadata": {},
   "outputs": [
    {
     "ename": "TypeError",
     "evalue": "configure_optimizer() got multiple values for keyword argument 'fhess'",
     "output_type": "error",
     "traceback": [
      "\u001b[0;31m---------------------------------------------------------------------------\u001b[0m",
      "\u001b[0;31mTypeError\u001b[0m                                 Traceback (most recent call last)",
      "\u001b[0;32m<ipython-input-45-83f9c18887b3>\u001b[0m in \u001b[0;36m<module>\u001b[0;34m()\u001b[0m\n\u001b[1;32m     14\u001b[0m         \u001b[0mstartTime\u001b[0m \u001b[0;34m=\u001b[0m \u001b[0mtime\u001b[0m\u001b[0;34m.\u001b[0m\u001b[0mtime\u001b[0m\u001b[0;34m(\u001b[0m\u001b[0;34m)\u001b[0m\u001b[0;34m\u001b[0m\u001b[0m\n\u001b[1;32m     15\u001b[0m         \u001b[0;32mwith\u001b[0m \u001b[0mnostdout\u001b[0m\u001b[0;34m(\u001b[0m\u001b[0;34m)\u001b[0m\u001b[0;34m:\u001b[0m\u001b[0;34m\u001b[0m\u001b[0m\n\u001b[0;32m---> 16\u001b[0;31m             \u001b[0mnewT\u001b[0m \u001b[0;34m=\u001b[0m \u001b[0mestimateMotion\u001b[0m\u001b[0;34m(\u001b[0m\u001b[0mrefVol\u001b[0m\u001b[0;34m,\u001b[0m \u001b[0mthisVol\u001b[0m\u001b[0;34m,\u001b[0m \u001b[0mprevEstimate\u001b[0m\u001b[0;34m)\u001b[0m\u001b[0;34m\u001b[0m\u001b[0m\n\u001b[0m\u001b[1;32m     17\u001b[0m \u001b[0;34m\u001b[0m\u001b[0m\n\u001b[1;32m     18\u001b[0m         \u001b[0;31m#print('translation: {}'.format(newT.translation))\u001b[0m\u001b[0;34m\u001b[0m\u001b[0;34m\u001b[0m\u001b[0m\n",
      "\u001b[0;32m<ipython-input-44-8b06c5a89b50>\u001b[0m in \u001b[0;36mestimateMotion\u001b[0;34m(refVol, vol, T_estimate)\u001b[0m\n\u001b[1;32m     13\u001b[0m     \u001b[0mreg\u001b[0m \u001b[0;34m=\u001b[0m \u001b[0mHistogramRegistration\u001b[0m\u001b[0;34m(\u001b[0m\u001b[0mvol\u001b[0m\u001b[0;34m,\u001b[0m \u001b[0mrefVol\u001b[0m\u001b[0;34m,\u001b[0m \u001b[0minterp\u001b[0m\u001b[0;34m=\u001b[0m\u001b[0;34m'tri'\u001b[0m\u001b[0;34m)\u001b[0m\u001b[0;34m\u001b[0m\u001b[0m\n\u001b[1;32m     14\u001b[0m     \u001b[0mfhess\u001b[0m \u001b[0;34m=\u001b[0m \u001b[0mreg\u001b[0m\u001b[0;34m.\u001b[0m\u001b[0meval_hessian\u001b[0m\u001b[0;34m(\u001b[0m\u001b[0mT_estimate\u001b[0m\u001b[0;34m)\u001b[0m\u001b[0;34m\u001b[0m\u001b[0m\n\u001b[0;32m---> 15\u001b[0;31m     \u001b[0mT\u001b[0m \u001b[0;34m=\u001b[0m \u001b[0mreg\u001b[0m\u001b[0;34m.\u001b[0m\u001b[0moptimize\u001b[0m\u001b[0;34m(\u001b[0m\u001b[0mT_estimate\u001b[0m\u001b[0;34m,\u001b[0m \u001b[0mfhess\u001b[0m\u001b[0;34m=\u001b[0m\u001b[0mfhess\u001b[0m\u001b[0;34m)\u001b[0m\u001b[0;34m\u001b[0m\u001b[0m\n\u001b[0m\u001b[1;32m     16\u001b[0m \u001b[0;34m\u001b[0m\u001b[0m\n\u001b[1;32m     17\u001b[0m     \u001b[0;32mreturn\u001b[0m \u001b[0mT\u001b[0m\u001b[0;34m\u001b[0m\u001b[0m\n",
      "\u001b[0;32m/usr/local/lib/python3.6/site-packages/nipy/algorithms/registration/histogram_registration.py\u001b[0m in \u001b[0;36moptimize\u001b[0;34m(self, T, optimizer, **kwargs)\u001b[0m\n\u001b[1;32m    384\u001b[0m                                                  \u001b[0mfprime\u001b[0m\u001b[0;34m=\u001b[0m\u001b[0;32mNone\u001b[0m\u001b[0;34m,\u001b[0m\u001b[0;34m\u001b[0m\u001b[0m\n\u001b[1;32m    385\u001b[0m                                                  \u001b[0mfhess\u001b[0m\u001b[0;34m=\u001b[0m\u001b[0;32mNone\u001b[0m\u001b[0;34m,\u001b[0m\u001b[0;34m\u001b[0m\u001b[0m\n\u001b[0;32m--> 386\u001b[0;31m                                                  **kwargs)\n\u001b[0m\u001b[1;32m    387\u001b[0m \u001b[0;34m\u001b[0m\u001b[0m\n\u001b[1;32m    388\u001b[0m         \u001b[0;31m# Output\u001b[0m\u001b[0;34m\u001b[0m\u001b[0;34m\u001b[0m\u001b[0m\n",
      "\u001b[0;31mTypeError\u001b[0m: configure_optimizer() got multiple values for keyword argument 'fhess'"
     ]
    }
   ],
   "source": [
    "prevEstimate = Rigid(np.eye(4))\n",
    "times = []\n",
    "\n",
    "# loop over each volume\n",
    "for volIdx in range(img.shape[3]):\n",
    "    if volIdx == 4:\n",
    "        refVol = img.get_data()[:,:,:,0]\n",
    "        refVol = nib.Nifti1Image(refVol, affine)\n",
    "    elif volIdx > 4:\n",
    "        thisVol = img.get_data()[:,:,:,volIdx]\n",
    "        thisVol = nib.Nifti1Image(thisVol, affine)\n",
    "\n",
    "        # calculate motion\n",
    "        startTime = time.time()\n",
    "        with nostdout():\n",
    "            newT = estimateMotion(refVol, thisVol, prevEstimate)\n",
    "        \n",
    "        #print('translation: {}'.format(newT.translation))\n",
    "        #print('rotation: {}'.format(newT.rotation))\n",
    "        \n",
    "        # print time\n",
    "        endTime = time.time()-startTime\n",
    "        print('vol {} took: {}ms'.format(volIdx, endTime*1000))\n",
    "        times.append(endTime)\n",
    "        \n",
    "        prevEstimate = newT\n",
    "\n",
    "print('Average Time: {}'.format(np.mean(times)))\n"
   ]
  },
  {
   "cell_type": "code",
   "execution_count": 35,
   "metadata": {},
   "outputs": [
    {
     "data": {
      "text/plain": [
       "[<matplotlib.lines.Line2D at 0x10d220978>]"
      ]
     },
     "execution_count": 35,
     "metadata": {},
     "output_type": "execute_result"
    },
    {
     "data": {
      "image/png": "[encoded data removed]",
      "text/plain": [
       "<matplotlib.figure.Figure at 0x10d130f98>"
      ]
     },
     "metadata": {},
     "output_type": "display_data"
    }
   ],
   "source": [
    "plt.plot(times)"
   ]
  },
  {
   "cell_type": "markdown",
   "metadata": {},
   "source": [
    "## Goldstandard motion params from FSL\n"
   ]
  },
  {
   "cell_type": "code",
   "execution_count": 39,
   "metadata": {
    "collapsed": true
   },
   "outputs": [],
   "source": [
    "mcf = np.genfromtxt('tests/GE_func_motion.par')"
   ]
  },
  {
   "cell_type": "code",
   "execution_count": 41,
   "metadata": {},
   "outputs": [
    {
     "data": {
      "text/plain": [
       "[<matplotlib.lines.Line2D at 0x10e9a1b70>,\n",
       " <matplotlib.lines.Line2D at 0x10e9a1d30>,\n",
       " <matplotlib.lines.Line2D at 0x10e9a1f28>,\n",
       " <matplotlib.lines.Line2D at 0x10e9a8160>,\n",
       " <matplotlib.lines.Line2D at 0x10e9a8358>,\n",
       " <matplotlib.lines.Line2D at 0x10e9a8550>]"
      ]
     },
     "execution_count": 41,
     "metadata": {},
     "output_type": "execute_result"
    },
    {
     "data": {
      "image/png": "[encoded data removed]",
      "text/plain": [
       "<matplotlib.figure.Figure at 0x10e8f00f0>"
      ]
     },
     "metadata": {},
     "output_type": "display_data"
    }
   ],
   "source": [
    "plt.plot(mcf)"
   ]
  },
  {
   "cell_type": "code",
   "execution_count": 54,
   "metadata": {},
   "outputs": [
    {
     "name": "stdout",
     "output_type": "stream",
     "text": [
      "Initial guess...\n",
      "translation : [-0.06089126 -1.30187884  3.57099499]\n",
      "rotation    : [ -8.38365216e-05  -3.49056598e-05  -3.64426612e-05]\n",
      "\n",
      "Optimizing using fmin_powell\n",
      "translation : [-0.06006747 -1.30573526  3.56987801]\n",
      "rotation    : [ -4.80333827e-05  -3.11382356e-05  -2.46366070e-05]\n",
      "\n",
      "crl1 = 0.754133006261\n",
      "\n",
      "Optimization terminated successfully.\n",
      "         Current function value: -0.754133\n",
      "         Iterations: 1\n",
      "         Function evaluations: 80\n",
      "took: 0.44485926628112793\n"
     ]
    }
   ],
   "source": [
    "reg = HistogramRegistration(testVol2, refVol, from_bins=128, to_bins=128, interp=\"pv\", smooth=10)\n",
    "start = time.time()\n",
    "T2 = reg.optimize(T)\n",
    "print('took: {}'.format(time.time()-start))"
   ]
  }
 ],
 "metadata": {
  "kernelspec": {
   "display_name": "Python 3",
   "language": "python",
   "name": "python3"
  },
  "language_info": {
   "codemirror_mode": {
    "name": "ipython",
    "version": 3
   },
   "file_extension": ".py",
   "mimetype": "text/x-python",
   "name": "python",
   "nbconvert_exporter": "python",
   "pygments_lexer": "ipython3",
   "version": "3.6.0"
  }
 },
 "nbformat": 4,
 "nbformat_minor": 2
}
