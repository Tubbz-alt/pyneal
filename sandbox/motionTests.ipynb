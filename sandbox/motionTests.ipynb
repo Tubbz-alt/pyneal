{
 "cells": [
  {
   "cell_type": "code",
   "execution_count": 1,
   "metadata": {},
   "outputs": [
    {
     "name": "stdout",
     "output_type": "stream",
     "text": [
      "Populating the interactive namespace from numpy and matplotlib\n"
     ]
    }
   ],
   "source": [
    "import os\n",
    "from os.path import join\n",
    "import sys\n",
    "# from cStringIO import StringIO\n",
    "import contextlib\n",
    "\n",
    "import time\n",
    "import numpy as np\n",
    "from nipy.algorithms.registration import HistogramRegistration, Rigid\n",
    "import nibabel as nib\n",
    "\n",
    "\n",
    "%pylab inline"
   ]
  },
  {
   "cell_type": "code",
   "execution_count": 2,
   "metadata": {},
   "outputs": [],
   "source": [
    "import io"
   ]
  },
  {
   "cell_type": "code",
   "execution_count": 3,
   "metadata": {},
   "outputs": [],
   "source": [
    "# load an example functional image\n",
    "img = nib.load('tests/GE_func_s1925.nii.gz')"
   ]
  },
  {
   "cell_type": "code",
   "execution_count": 4,
   "metadata": {},
   "outputs": [
    {
     "data": {
      "text/plain": [
       "(64, 64, 18, 60)"
      ]
     },
     "execution_count": 4,
     "metadata": {},
     "output_type": "execute_result"
    }
   ],
   "source": [
    "img.get_data().shape"
   ]
  },
  {
   "cell_type": "code",
   "execution_count": 5,
   "metadata": {},
   "outputs": [],
   "source": [
    "# create a reference volume and a test volume\n",
    "affine = img.affine\n",
    "\n",
    "refVol = img.get_data()[:,:,:,0]\n",
    "refVol = nib.Nifti1Image(refVol, affine)"
   ]
  },
  {
   "cell_type": "code",
   "execution_count": 6,
   "metadata": {},
   "outputs": [
    {
     "data": {
      "text/plain": [
       "array([[  2.99403310e+00,  -1.83411002e-01,  -5.83411753e-02,\n",
       "         -8.58351822e+01],\n",
       "       [  1.56465605e-01,   2.81301904e+00,  -1.30558825e+00,\n",
       "         -5.56155281e+01],\n",
       "       [  1.06205396e-01,   1.02629399e+00,   3.56818247e+00,\n",
       "         -8.16833649e+01],\n",
       "       [  0.00000000e+00,   0.00000000e+00,   0.00000000e+00,\n",
       "          1.00000000e+00]])"
      ]
     },
     "execution_count": 6,
     "metadata": {},
     "output_type": "execute_result"
    }
   ],
   "source": [
    "affine"
   ]
  },
  {
   "cell_type": "markdown",
   "metadata": {},
   "source": [
    "## estimate motion params between each timepoint and the reference vol\n",
    "build a function that can be computed on each volume and will return the transformation between \n",
    "the current volume and the reference volume. This will allow you to tweak motion estimate parameters\n",
    "in a way to find the fasted estimate"
   ]
  },
  {
   "cell_type": "code",
   "execution_count": 48,
   "metadata": {},
   "outputs": [],
   "source": [
    "@contextlib.contextmanager\n",
    "def nostdout():\n",
    "    save_stdout = sys.stdout\n",
    "    sys.stdout = io.StringIO()\n",
    "    yield\n",
    "    sys.stdout = save_stdout\n",
    "\n",
    "\n",
    "def estimateMotion(vol, refVol, T_estimate):\n",
    "    \"\"\"\n",
    "    input vols should be nibabel Nifti1 images\n",
    "    T_estimate is a transformation matrix to serve as a starting point for \n",
    "    the optimization. T_estimate gets changed in place\n",
    "    \"\"\"\n",
    "    reg = HistogramRegistration(vol, refVol, interp='tri', from_bins=256)\n",
    "    T = reg.optimize(T_estimate)\n",
    "\n",
    "    return T\n",
    "\n",
    "def rmsDeviation(T1, T2, R=50):\n",
    "    \"\"\"\n",
    "    compute the RMS deviation between the two supplied transformations.\n",
    "    \"\"\"\n",
    "    \n",
    "    diffMatrix = T1.as_affine().dot(np.linalg.inv(T2.as_affine())) - np.eye(4)\n",
    "    \n",
    "    # decompose into A and t components\n",
    "    A = diffMatrix[:3, :3]\n",
    "    t = diffMatrix[:3, 3]\n",
    "    \n",
    "    # volume center assumed to be at 0,0,0 in world space\n",
    "    center = np.zeros(3)\n",
    "    t += A.dot(center)\n",
    "    \n",
    "    # compute RMS error (aka deviation error between transforms)\n",
    "    rms = np.sqrt((1/5) * R**2 * A.T.dot(A).trace() + t.T.dot(t))\n",
    "    \n",
    "    return rms\n",
    "    \n",
    "    \n",
    "    "
   ]
  },
  {
   "cell_type": "code",
   "execution_count": 49,
   "metadata": {},
   "outputs": [
    {
     "name": "stdout",
     "output_type": "stream",
     "text": [
      "RMS (ref): 0.258494275373785\n",
      "RMS (prev): 0.258494275373785\n",
      "RMS (ref): 0.0827595458994726\n",
      "RMS (prev): 0.20593361721804235\n",
      "RMS (ref): 0.01708063566277052\n",
      "RMS (prev): 0.08873860258912275\n",
      "RMS (ref): 0.10475264446498242\n",
      "RMS (prev): 0.11010807312944787\n",
      "RMS (ref): 0.04891551660703798\n",
      "RMS (prev): 0.11591817739894518\n",
      "RMS (ref): 0.03770848798762912\n",
      "RMS (prev): 0.07147623145749832\n",
      "RMS (ref): 0.1474091019536414\n",
      "RMS (prev): 0.12384337169491634\n",
      "RMS (ref): 0.06622366286879573\n",
      "RMS (prev): 0.14688281331437708\n",
      "RMS (ref): 0.07658682362430078\n",
      "RMS (prev): 0.08591246295698975\n",
      "RMS (ref): 0.15133625074223497\n",
      "RMS (prev): 0.0786118605451617\n",
      "RMS (ref): 0.06069524620163772\n",
      "RMS (prev): 0.14362748346974527\n",
      "RMS (ref): 0.09499623232072858\n",
      "RMS (prev): 0.10283828301376964\n",
      "RMS (ref): 0.12131798329474794\n",
      "RMS (prev): 0.0637335343372471\n",
      "RMS (ref): 0.08679501156509589\n",
      "RMS (prev): 0.11274858039487998\n",
      "RMS (ref): 0.048433830883743215\n",
      "RMS (prev): 0.06218879461942625\n",
      "RMS (ref): 0.13939893739451048\n",
      "RMS (prev): 0.11001048431083481\n",
      "RMS (ref): 0.11253053687031028\n",
      "RMS (prev): 0.13514490005252228\n",
      "RMS (ref): 0.05383680939394099\n",
      "RMS (prev): 0.07581185265301997\n",
      "RMS (ref): 0.1616530586268347\n",
      "RMS (prev): 0.12333559911565856\n",
      "RMS (ref): 0.09967903598223943\n",
      "RMS (prev): 0.13587326115523296\n",
      "RMS (ref): 0.07963792731095039\n",
      "RMS (prev): 0.07870099060920072\n",
      "RMS (ref): 0.1705839105271306\n",
      "RMS (prev): 0.09575945893565045\n",
      "RMS (ref): 0.13293745526501785\n",
      "RMS (prev): 0.16728079759589684\n",
      "RMS (ref): 0.12817966992359695\n",
      "RMS (prev): 0.10372103313959005\n",
      "RMS (ref): 0.13825514719082535\n",
      "RMS (prev): 0.016185776155915838\n",
      "RMS (ref): 0.10899650960865996\n",
      "RMS (prev): 0.08932149795901578\n",
      "RMS (ref): 0.17922038328529571\n",
      "RMS (prev): 0.15942900500455112\n",
      "RMS (ref): 0.13843432117900611\n",
      "RMS (prev): 0.10253314538234184\n",
      "RMS (ref): 0.11088663333728808\n",
      "RMS (prev): 0.0923194235238889\n",
      "RMS (ref): 0.08622436105194788\n",
      "RMS (prev): 0.110788503053802\n",
      "RMS (ref): 0.16308323303779065\n",
      "RMS (prev): 0.08495017637517592\n",
      "RMS (ref): 0.09242310594014966\n",
      "RMS (prev): 0.12511622464584188\n",
      "RMS (ref): 0.14843097324870547\n",
      "RMS (prev): 0.11605326497794378\n",
      "RMS (ref): 0.15608372030160808\n",
      "RMS (prev): 0.020102698248102624\n",
      "RMS (ref): 0.10095400978628162\n",
      "RMS (prev): 0.0834536121042553\n",
      "RMS (ref): 0.15877454300469618\n",
      "RMS (prev): 0.09091935272435389\n",
      "RMS (ref): 0.10839736839355041\n",
      "RMS (prev): 0.11887038884876629\n",
      "RMS (ref): 0.08525709117811305\n",
      "RMS (prev): 0.028419304882061677\n",
      "RMS (ref): 0.14186623445352473\n",
      "RMS (prev): 0.09629516738034659\n",
      "RMS (ref): 0.12424559831259324\n",
      "RMS (prev): 0.11633470992573433\n",
      "RMS (ref): 0.13843105950225112\n",
      "RMS (prev): 0.09207905678108201\n",
      "RMS (ref): 0.18033577795295935\n",
      "RMS (prev): 0.05089114396973632\n",
      "RMS (ref): 0.13264804102075842\n",
      "RMS (prev): 0.1120738918002335\n",
      "RMS (ref): 0.14556685460616314\n",
      "RMS (prev): 0.128510772116411\n",
      "RMS (ref): 0.1476347023879779\n",
      "RMS (prev): 0.026392259216346435\n",
      "RMS (ref): 0.12333095734955006\n",
      "RMS (prev): 0.0374559078683582\n",
      "RMS (ref): 0.2340605415866233\n",
      "RMS (prev): 0.13247933011562435\n",
      "RMS (ref): 0.14149918699655348\n",
      "RMS (prev): 0.15246382634202646\n",
      "RMS (ref): 0.1301408411651592\n",
      "RMS (prev): 0.05405737239494907\n",
      "RMS (ref): 0.17188790044021526\n",
      "RMS (prev): 0.05402543432531909\n",
      "RMS (ref): 0.1374006282036149\n",
      "RMS (prev): 0.10904943445024243\n",
      "RMS (ref): 0.11891898442517182\n",
      "RMS (prev): 0.13381181784751087\n",
      "RMS (ref): 0.18609537542877103\n",
      "RMS (prev): 0.07402350125139082\n",
      "RMS (ref): 0.12874088569747347\n",
      "RMS (prev): 0.1220825639915672\n",
      "RMS (ref): 0.20326189103516343\n",
      "RMS (prev): 0.14039739818403182\n",
      "RMS (ref): 0.13158524136424438\n",
      "RMS (prev): 0.1305673454271981\n",
      "RMS (ref): 0.1353529159705046\n",
      "RMS (prev): 0.07361324496138304\n",
      "RMS (ref): 0.18876487652219315\n",
      "RMS (prev): 0.06080652808545241\n",
      "RMS (ref): 0.13118024940595074\n",
      "RMS (prev): 0.13926198937738873\n",
      "RMS (ref): 0.1435823004878511\n",
      "RMS (prev): 0.09571255876919146\n",
      "Average Time: 0.4983752418966854\n"
     ]
    }
   ],
   "source": [
    "prevEstimate = Rigid(np.eye(4))\n",
    "ref_T = Rigid(np.eye(4))\n",
    "\n",
    "rmsRef = []\n",
    "rmsPrev = []\n",
    "\n",
    "refVol = img.get_data()[:,:,:,4]\n",
    "refVol = nib.Nifti1Image(refVol, affine)\n",
    "\n",
    "# loop over each volume\n",
    "for volIdx in range(img.shape[3]):\n",
    "    thisVol = img.get_data()[:,:,:,volIdx]\n",
    "    thisVol = nib.Nifti1Image(thisVol, affine)\n",
    "\n",
    "    # calculate motion\n",
    "    startTime = time.time()\n",
    "    with nostdout():\n",
    "        newT = estimateMotion(thisVol, refVol, prevEstimate.copy())\n",
    "\n",
    "    # compute RMS to ref\n",
    "    rms_ref = rmsDeviation(ref_T, newT)\n",
    "    rmsRef.append(rms_ref)\n",
    "    print(\"RMS (ref): {}\".format(rms_ref))\n",
    "\n",
    "    # compute RMS to prev\n",
    "    rms_prev = rmsDeviation(prevEstimate, newT)\n",
    "    rmsPrev.append(rms_prev)\n",
    "    print(\"RMS (prev): {}\".format(rms_prev))\n",
    "\n",
    "    # get the realignment parameters:\n",
    "    rot_x, rot_y, rot_z = np.rad2deg(newT.rotation)\n",
    "    trans_x, trans_y, trans_z = newT.translation\n",
    "\n",
    "\n",
    "    # print time\n",
    "    endTime = time.time()-startTime\n",
    "    #print('vol {} took: {}ms'.format(volIdx, endTime*1000))\n",
    "    times.append(endTime)\n",
    "\n",
    "    prevEstimate = newT\n",
    "\n",
    "print('Average Time: {}'.format(np.mean(times)))\n"
   ]
  },
  {
   "cell_type": "code",
   "execution_count": 58,
   "metadata": {},
   "outputs": [
    {
     "data": {
      "text/plain": [
       "(0, 0.3)"
      ]
     },
     "execution_count": 58,
     "metadata": {},
     "output_type": "execute_result"
    },
    {
     "data": {
      "image/png": "[encoded data removed]",
      "text/plain": [
       "<matplotlib.figure.Figure at 0x10ab97eb8>"
      ]
     },
     "metadata": {},
     "output_type": "display_data"
    }
   ],
   "source": [
    "plt.plot(rmsRef)\n",
    "plt.plot(rmsPrev)\n",
    "plt.ylim(0,.3)"
   ]
  },
  {
   "cell_type": "markdown",
   "metadata": {},
   "source": [
    "## Calculate RMS displacement\n",
    "summarize the motion alignment parameters (rotation matrix and translation vectors) into a single displacement summary"
   ]
  },
  {
   "cell_type": "code",
   "execution_count": 9,
   "metadata": {},
   "outputs": [],
   "source": [
    "# set up the reference volume\n",
    "refVol = img.get_data()[:,:,:,10]\n",
    "refVol = nib.Nifti1Image(refVol, affine)\n",
    "\n",
    "# set up the test volume\n",
    "testVol = img.get_data()[:,:,:,15]\n",
    "testVol = nib.Nifti1Image(testVol, affine)\n",
    "\n",
    "# set up the T for the reference volume\n",
    "ref_T = Rigid(np.eye(4))\n"
   ]
  },
  {
   "cell_type": "code",
   "execution_count": 12,
   "metadata": {},
   "outputs": [
    {
     "name": "stdout",
     "output_type": "stream",
     "text": [
      "Initial guess...\n",
      "translation : [ 0.  0.  0.]\n",
      "rotation    : [ 0.  0.  0.]\n",
      "\n",
      "Optimizing using fmin_powell\n",
      "translation : [ 0.01015284 -0.05166293  0.15908284]\n",
      "rotation    : [ 0.00053716 -0.0001312   0.00019051]\n",
      "\n",
      "crl1 = 0.968501568056\n",
      "\n",
      "Optimization terminated successfully.\n",
      "         Current function value: -0.968502\n",
      "         Iterations: 1\n",
      "         Function evaluations: 57\n"
     ]
    }
   ],
   "source": [
    "# get the motion \n",
    "test2ref_T = estimateMotion(refVol, testVol, ref_T)"
   ]
  },
  {
   "cell_type": "code",
   "execution_count": 39,
   "metadata": {},
   "outputs": [
    {
     "data": {
      "text/plain": [
       "0.17016207972408393"
      ]
     },
     "execution_count": 39,
     "metadata": {},
     "output_type": "execute_result"
    }
   ],
   "source": [
    "T1 = Rigid(np.eye(4))\n",
    "T2 = test2ref_T\n",
    "\n",
    "rms = rmsDeviation(T1, T2)\n",
    "rms"
   ]
  }
 ],
 "metadata": {
  "kernelspec": {
   "display_name": "Python 3",
   "language": "python",
   "name": "python3"
  },
  "language_info": {
   "codemirror_mode": {
    "name": "ipython",
    "version": 3
   },
   "file_extension": ".py",
   "mimetype": "text/x-python",
   "name": "python",
   "nbconvert_exporter": "python",
   "pygments_lexer": "ipython3",
   "version": "3.6.2"
  }
 },
 "nbformat": 4,
 "nbformat_minor": 2
}
