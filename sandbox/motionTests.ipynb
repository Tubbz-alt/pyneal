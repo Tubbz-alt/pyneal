{
 "cells": [
  {
   "cell_type": "code",
   "execution_count": 1,
   "metadata": {},
   "outputs": [
    {
     "name": "stdout",
     "output_type": "stream",
     "text": [
      "Populating the interactive namespace from numpy and matplotlib\n"
     ]
    }
   ],
   "source": [
    "import os\n",
    "from os.path import join\n",
    "import sys\n",
    "\n",
    "import numpy as np\n",
    "from nipy.algorithms.registration import HistogramRegistration, Rigid\n",
    "import nibabel as nib\n",
    "\n",
    "%pylab inline"
   ]
  },
  {
   "cell_type": "code",
   "execution_count": 2,
   "metadata": {
    "collapsed": true
   },
   "outputs": [],
   "source": [
    "# load an example functional image\n",
    "img = nib.load('tests/GE_func_s1925.nii.gz')"
   ]
  },
  {
   "cell_type": "code",
   "execution_count": 3,
   "metadata": {},
   "outputs": [
    {
     "data": {
      "text/plain": [
       "(64, 64, 18, 60)"
      ]
     },
     "execution_count": 3,
     "metadata": {},
     "output_type": "execute_result"
    }
   ],
   "source": [
    "img.get_data().shape"
   ]
  },
  {
   "cell_type": "code",
   "execution_count": 8,
   "metadata": {},
   "outputs": [],
   "source": [
    "# create a reference volume and a test volume\n",
    "affine = img.affine\n",
    "\n",
    "refVol = img.get_data()[:,:,:,30]\n",
    "refVol = nib.Nifti1Image(refVol, affine)\n",
    "\n",
    "testVol = img.get_data()[:,:,:,35]\n",
    "testVol = nib.Nifti1Image(testVol, affine)"
   ]
  },
  {
   "cell_type": "code",
   "execution_count": 10,
   "metadata": {},
   "outputs": [],
   "source": []
  },
  {
   "cell_type": "code",
   "execution_count": 19,
   "metadata": {
    "collapsed": true
   },
   "outputs": [],
   "source": [
    "import time"
   ]
  },
  {
   "cell_type": "code",
   "execution_count": 34,
   "metadata": {},
   "outputs": [
    {
     "name": "stdout",
     "output_type": "stream",
     "text": [
      "Initial guess...\n",
      "translation : [ 0.  0.  0.]\n",
      "rotation    : [ 0.  0.  0.]\n",
      "\n",
      "Optimizing using fmin_powell\n",
      "translation : [ 0.01054075 -0.00311031  0.04224973]\n",
      "rotation    : [  1.72537222e-04   3.23241320e-05  -2.39522826e-05]\n",
      "\n",
      "crl1 = 0.970112695776\n",
      "\n",
      "Optimization terminated successfully.\n",
      "         Current function value: -0.970113\n",
      "         Iterations: 1\n",
      "         Function evaluations: 61\n",
      "took: 0.3690800666809082\n"
     ]
    }
   ],
   "source": [
    "# Create a HR object\n",
    "reg = HistogramRegistration(testVol, refVol, interp=\"tri\")\n",
    "\n",
    "# optimize the registration (but you have to give it somewhere to start from)\n",
    "# In a real-time run, you could do this iteratively, using the previous T as the \n",
    "# starting point.\n",
    "start = time.time()\n",
    "T = reg.optimize(Rigid(np.eye(4)))\n",
    "print('took: {}'.format(time.time()-start))"
   ]
  },
  {
   "cell_type": "code",
   "execution_count": 35,
   "metadata": {},
   "outputs": [
    {
     "data": {
      "text/plain": [
       "array([ 0.01054075, -0.00311031,  0.04224973])"
      ]
     },
     "execution_count": 35,
     "metadata": {},
     "output_type": "execute_result"
    }
   ],
   "source": [
    "T.translation"
   ]
  },
  {
   "cell_type": "code",
   "execution_count": 36,
   "metadata": {},
   "outputs": [
    {
     "data": {
      "text/plain": [
       "array([  1.72537222e-04,   3.23241320e-05,  -2.39522826e-05])"
      ]
     },
     "execution_count": 36,
     "metadata": {},
     "output_type": "execute_result"
    }
   ],
   "source": [
    "T.rotation"
   ]
  },
  {
   "cell_type": "code",
   "execution_count": 37,
   "metadata": {
    "collapsed": true
   },
   "outputs": [],
   "source": [
    "# now that we have an existing alignment transform\n",
    "# apply to the next volume to see if its faster\n",
    "testVol2 = img.get_data()[:,:,:,36]\n",
    "testVol2 = nib.Nifti1Image(testVol2, affine)"
   ]
  },
  {
   "cell_type": "code",
   "execution_count": 54,
   "metadata": {},
   "outputs": [
    {
     "name": "stdout",
     "output_type": "stream",
     "text": [
      "Initial guess...\n",
      "translation : [-0.06089126 -1.30187884  3.57099499]\n",
      "rotation    : [ -8.38365216e-05  -3.49056598e-05  -3.64426612e-05]\n",
      "\n",
      "Optimizing using fmin_powell\n",
      "translation : [-0.06006747 -1.30573526  3.56987801]\n",
      "rotation    : [ -4.80333827e-05  -3.11382356e-05  -2.46366070e-05]\n",
      "\n",
      "crl1 = 0.754133006261\n",
      "\n",
      "Optimization terminated successfully.\n",
      "         Current function value: -0.754133\n",
      "         Iterations: 1\n",
      "         Function evaluations: 80\n",
      "took: 0.44485926628112793\n"
     ]
    }
   ],
   "source": [
    "reg = HistogramRegistration(testVol2, refVol, from_bins=128, to_bins=128, interp=\"pv\", smooth=10)\n",
    "start = time.time()\n",
    "T2 = reg.optimize(T)\n",
    "print('took: {}'.format(time.time()-start))"
   ]
  }
 ],
 "metadata": {
  "kernelspec": {
   "display_name": "Python 3",
   "language": "python",
   "name": "python3"
  },
  "language_info": {
   "codemirror_mode": {
    "name": "ipython",
    "version": 3
   },
   "file_extension": ".py",
   "mimetype": "text/x-python",
   "name": "python",
   "nbconvert_exporter": "python",
   "pygments_lexer": "ipython3",
   "version": "3.6.0"
  }
 },
 "nbformat": 4,
 "nbformat_minor": 2
}
