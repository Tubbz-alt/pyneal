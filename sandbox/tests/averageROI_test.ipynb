{
 "cells": [
  {
   "cell_type": "markdown",
   "metadata": {},
   "source": [
    "# Average ROI test\n",
    "Test to see if we can recreate the same average ROI timeseries using the full Pyneal pipeline and doing it offline"
   ]
  },
  {
   "cell_type": "code",
   "execution_count": 11,
   "metadata": {},
   "outputs": [
    {
     "name": "stdout",
     "output_type": "stream",
     "text": [
      "Populating the interactive namespace from numpy and matplotlib\n"
     ]
    }
   ],
   "source": [
    "import numpy as np\n",
    "\n",
    "%pylab inline"
   ]
  },
  {
   "cell_type": "code",
   "execution_count": 8,
   "metadata": {},
   "outputs": [
    {
     "name": "stdout",
     "output_type": "stream",
     "text": [
      "GE_anat_s1923.nii.gz       averageROI_test.ipynb\r\n",
      "GE_func_s1925.nii.gz       tmp.txt\r\n",
      "NAc_Average_fslOutput.txt  \u001b[34mtransforms\u001b[m\u001b[m/\r\n"
     ]
    }
   ],
   "source": [
    "ls"
   ]
  },
  {
   "cell_type": "code",
   "execution_count": 9,
   "metadata": {},
   "outputs": [
    {
     "data": {
      "text/plain": [
       "array([ 3724.590361,  1851.48996 ,  1787.927711,  1768.827309,\n",
       "        1756.895582,  1758.317269,  1763.477912,  1753.598394,\n",
       "        1767.381526,  1755.843373,  1755.273092,  1766.172691,\n",
       "        1758.7751  ,  1754.746988,  1762.329317,  1759.196787,\n",
       "        1753.907631,  1753.75502 ,  1759.37751 ,  1749.341365,\n",
       "        1752.903614,  1756.863454,  1740.361446,  1758.871486,\n",
       "        1754.39759 ,  1748.606426,  1756.289157,  1749.176707,\n",
       "        1749.582329,  1760.771084,  1745.714859,  1751.261044,\n",
       "        1759.341365,  1749.032129,  1748.220884,  1762.228916,\n",
       "        1751.919679,  1756.072289,  1766.983936,  1755.325301,\n",
       "        1761.032129,  1754.293173,  1751.036145,  1764.526104,\n",
       "        1759.746988,  1764.15261 ,  1767.763052,  1757.606426,\n",
       "        1761.871486,  1763.349398,  1755.518072,  1764.381526,\n",
       "        1759.606426,  1764.522088,  1770.361446,  1763.032129,\n",
       "        1767.373494,  1768.15261 ,  1765.594378,  1771.84739 ])"
      ]
     },
     "execution_count": 9,
     "metadata": {},
     "output_type": "execute_result"
    }
   ],
   "source": [
    "fsl = np.genfromtxt('NAc_Average_fslOutput.txt')\n",
    "fsl"
   ]
  },
  {
   "cell_type": "code",
   "execution_count": 10,
   "metadata": {},
   "outputs": [],
   "source": [
    "pyneal = np.genfromtxt('../../testOutput.txt')"
   ]
  },
  {
   "cell_type": "code",
   "execution_count": 12,
   "metadata": {},
   "outputs": [
    {
     "data": {
      "text/plain": [
       "[<matplotlib.lines.Line2D at 0x1058a9550>]"
      ]
     },
     "execution_count": 12,
     "metadata": {},
     "output_type": "execute_result"
    },
    {
     "data": {
      "image/png": "[encoded data removed]",
      "text/plain": [
       "<matplotlib.figure.Figure at 0x1058a9518>"
      ]
     },
     "metadata": {},
     "output_type": "display_data"
    }
   ],
   "source": [
    "plt.plot(fsl, color='red')\n",
    "plt.plot(pyneal, color='blue')"
   ]
  }
 ],
 "metadata": {
  "kernelspec": {
   "display_name": "Python 3",
   "language": "python",
   "name": "python3"
  },
  "language_info": {
   "codemirror_mode": {
    "name": "ipython",
    "version": 3
   },
   "file_extension": ".py",
   "mimetype": "text/x-python",
   "name": "python",
   "nbconvert_exporter": "python",
   "pygments_lexer": "ipython3",
   "version": "3.6.2"
  }
 },
 "nbformat": 4,
 "nbformat_minor": 2
}
