{
 "cells": [
  {
   "cell_type": "code",
   "execution_count": 19,
   "metadata": {},
   "outputs": [
    {
     "name": "stdout",
     "output_type": "stream",
     "text": [
      "Populating the interactive namespace from numpy and matplotlib\n"
     ]
    }
   ],
   "source": [
    "import nibabel as nib\n",
    "\n",
    "import numpy as np\n",
    "from PIL import Image\n",
    "\n",
    "import os\n",
    "from os.path import join\n",
    "import glob\n",
    "\n",
    "%pylab inline\n"
   ]
  },
  {
   "cell_type": "code",
   "execution_count": 20,
   "metadata": {},
   "outputs": [
    {
     "name": "stderr",
     "output_type": "stream",
     "text": [
      "/usr/local/lib/python3.6/site-packages/ipykernel_launcher.py:1: UserWarning: The DICOM readers are highly experimental, unstable, and only work for Siemens time-series at the moment\n",
      "Please use with caution.  We would be grateful for your help in improving them\n",
      "  \"\"\"Entry point for launching an IPython kernel.\n"
     ]
    }
   ],
   "source": [
    "from nibabel import nicom"
   ]
  },
  {
   "cell_type": "code",
   "execution_count": 35,
   "metadata": {
    "collapsed": true
   },
   "outputs": [],
   "source": [
    "UNCdir = '../../../sandbox/scansForSimulation/Siemens_UNC/series0017/'"
   ]
  },
  {
   "cell_type": "code",
   "execution_count": 36,
   "metadata": {
    "collapsed": true
   },
   "outputs": [],
   "source": [
    "siemensFiles = glob.glob(join(UNCdir, '*.IMA'))\n"
   ]
  },
  {
   "cell_type": "code",
   "execution_count": 37,
   "metadata": {
    "collapsed": true
   },
   "outputs": [],
   "source": [
    "import dicom"
   ]
  },
  {
   "cell_type": "code",
   "execution_count": 38,
   "metadata": {
    "collapsed": true
   },
   "outputs": [],
   "source": [
    "dcm = dicom.read_file(siemensFiles[0])"
   ]
  },
  {
   "cell_type": "code",
   "execution_count": 39,
   "metadata": {},
   "outputs": [
    {
     "data": {
      "text/plain": [
       "<bound method Dataset.decode of (0008, 0005) Specific Character Set              CS: 'ISO_IR 100'\n",
       "(0008, 0008) Image Type                          CS: ['ORIGINAL', 'PRIMARY', 'M', 'ND']\n",
       "(0008, 0012) Instance Creation Date              DA: '20171024'\n",
       "(0008, 0013) Instance Creation Time              TM: '122736.733000'\n",
       "(0008, 0016) SOP Class UID                       UI: MR Image Storage\n",
       "(0008, 0018) SOP Instance UID                    UI: 1.3.12.2.1107.5.2.43.67094.2017102412273592012006342\n",
       "(0008, 0020) Study Date                          DA: '20171024'\n",
       "(0008, 0021) Series Date                         DA: '20171024'\n",
       "(0008, 0022) Acquisition Date                    DA: '20171024'\n",
       "(0008, 0023) Content Date                        DA: '20171024'\n",
       "(0008, 0030) Study Time                          TM: '113340.910000'\n",
       "(0008, 0031) Series Time                         TM: '122736.730000'\n",
       "(0008, 0032) Acquisition Time                    TM: '122522.750000'\n",
       "(0008, 0033) Content Time                        TM: '122736.733000'\n",
       "(0008, 0050) Accession Number                    SH: ''\n",
       "(0008, 0060) Modality                            CS: 'MR'\n",
       "(0008, 0070) Manufacturer                        LO: 'SIEMENS'\n",
       "(0008, 0080) Institution Name                    LO: 'Univerisity North Carolina'\n",
       "(0008, 0081) Institution Address                 ST: 'Mason Farm Rd 106,Chapel Hill,District,US,27599'\n",
       "(0008, 0090) Referring Physician's Name          PN: ''\n",
       "(0008, 1010) Station Name                        SH: 'Prisma'\n",
       "(0008, 1030) Study Description                   LO: 'PRISMA^HEAD'\n",
       "(0008, 103e) Series Description                  LO: 'T1w_MPR'\n",
       "(0008, 1040) Institutional Department Name       LO: 'Department'\n",
       "(0008, 1050) Performing Physician's Name         PN: ''\n",
       "(0008, 1090) Manufacturer's Model Name           LO: 'Prisma_fit'\n",
       "(0008, 1140)  Referenced Image Sequence   3 item(s) ---- \n",
       "   (0008, 1150) Referenced SOP Class UID            UI: MR Image Storage\n",
       "   (0008, 1155) Referenced SOP Instance UID         UI: 1.3.12.2.1107.5.2.43.67094.2017102412130378792971397\n",
       "   ---------\n",
       "   (0008, 1150) Referenced SOP Class UID            UI: MR Image Storage\n",
       "   (0008, 1155) Referenced SOP Instance UID         UI: 1.3.12.2.1107.5.2.43.67094.2017102412130210888371394\n",
       "   ---------\n",
       "   (0008, 1150) Referenced SOP Class UID            UI: MR Image Storage\n",
       "   (0008, 1155) Referenced SOP Instance UID         UI: 1.3.12.2.1107.5.2.43.67094.2017102412130042818571391\n",
       "   ---------\n",
       "(0010, 0010) Patient's Name                      PN: 'research_yc_171024'\n",
       "(0010, 0020) Patient ID                          LO: '17.10.24-11:33:14-STD-1.3.12.2.1107.5.2.43.67094'\n",
       "(0010, 0030) Patient's Birth Date                DA: '19900101'\n",
       "(0010, 0040) Patient's Sex                       CS: 'M'\n",
       "(0010, 1010) Patient's Age                       AS: '027Y'\n",
       "(0010, 1020) Patient's Size                      DS: '1.82880366'\n",
       "(0010, 1030) Patient's Weight                    DS: '81.646636986'\n",
       "(0018, 0015) Body Part Examined                  CS: 'BRAIN'\n",
       "(0018, 0020) Scanning Sequence                   CS: ['GR', 'IR']\n",
       "(0018, 0021) Sequence Variant                    CS: ['SK', 'SP', 'MP']\n",
       "(0018, 0022) Scan Options                        CS: ['IR', 'WE']\n",
       "(0018, 0023) MR Acquisition Type                 CS: '3D'\n",
       "(0018, 0024) Sequence Name                       SH: '*tfl3d1_16ns'\n",
       "(0018, 0025) Angio Flag                          CS: 'N'\n",
       "(0018, 0050) Slice Thickness                     DS: '3'\n",
       "(0018, 0080) Repetition Time                     DS: '1250'\n",
       "(0018, 0081) Echo Time                           DS: '2.06'\n",
       "(0018, 0082) Inversion Time                      DS: '1000'\n",
       "(0018, 0083) Number of Averages                  DS: '1'\n",
       "(0018, 0084) Imaging Frequency                   DS: '123.217281'\n",
       "(0018, 0085) Imaged Nucleus                      SH: '1H'\n",
       "(0018, 0086) Echo Number(s)                      IS: '1'\n",
       "(0018, 0087) Magnetic Field Strength             DS: '3'\n",
       "(0018, 0089) Number of Phase Encoding Steps      IS: '179'\n",
       "(0018, 0091) Echo Train Length                   IS: '1'\n",
       "(0018, 0093) Percent Sampling                    DS: '100'\n",
       "(0018, 0094) Percent Phase Field of View         DS: '93.75'\n",
       "(0018, 0095) Pixel Bandwidth                     DS: '220'\n",
       "(0018, 1000) Device Serial Number                LO: '67094'\n",
       "(0018, 1020) Software Version(s)                 LO: 'syngo MR E11'\n",
       "(0018, 1030) Protocol Name                       LO: 'T1w_MPR'\n",
       "(0018, 1251) Transmit Coil Name                  SH: 'Body'\n",
       "(0018, 1310) Acquisition Matrix                  US: [0, 192, 180, 0]\n",
       "(0018, 1312) In-plane Phase Encoding Direction   CS: 'ROW'\n",
       "(0018, 1314) Flip Angle                          DS: '8'\n",
       "(0018, 1315) Variable Flip Angle Flag            CS: 'N'\n",
       "(0018, 1316) SAR                                 DS: '0.05295116170273'\n",
       "(0018, 1318) dB/dt                               DS: '0'\n",
       "(0018, 5100) Patient Position                    CS: 'HFS'\n",
       "(0019, 0010) Private Creator                     LO: 'SIEMENS MR HEADER'\n",
       "(0019, 1008) [CSA Image Header Type]             CS: 'IMAGE NUM 4'\n",
       "(0019, 1009) [CSA Image Header Version ??]       LO: '1.0'\n",
       "(0019, 100b) [SliceMeasurementDuration]          DS: '130435'\n",
       "(0019, 100f) [GradientMode]                      SH: ''\n",
       "(0019, 1011) [FlowCompensation]                  SH: 'No'\n",
       "(0019, 1012) [TablePositionOrigin]               SL: [0, 0, -1280]\n",
       "(0019, 1013) [ImaAbsTablePosition]               SL: [0, 0, -1280]\n",
       "(0019, 1014) [ImaRelTablePosition]               IS: ['0', '0', '0']\n",
       "(0019, 1015) [SlicePosition_PCS]                 FD: [-88.15070358, -134.38821883, 59.74205319]\n",
       "(0019, 1017) [SliceResolution]                   DS: '1'\n",
       "(0019, 1018) [RealDwellTime]                     IS: '11800'\n",
       "(0020, 000d) Study Instance UID                  UI: 1.3.12.2.1107.5.2.43.67094.30000017102413063976700000007\n",
       "(0020, 000e) Series Instance UID                 UI: 1.3.12.2.1107.5.2.43.67094.2017102412273588765706315.0.0.0\n",
       "(0020, 0010) Study ID                            SH: '1'\n",
       "(0020, 0011) Series Number                       IS: '17'\n",
       "(0020, 0012) Acquisition Number                  IS: '1'\n",
       "(0020, 0013) Instance Number                     IS: '1'\n",
       "(0020, 0032) Image Position (Patient)            DS: ['-88.150703580322', '-134.38821883415', '59.742053192921']\n",
       "(0020, 0037) Image Orientation (Patient)         DS: ['0.05582150293994', '0.99844076429677', '2.5254742e-008', '0.04006922781776', '-0.0022401922718', '-0.9991943947604']\n",
       "(0020, 0052) Frame of Reference UID              UI: 1.3.12.2.1107.5.2.43.67094.1.20171024121151232.0.0.0\n",
       "(0020, 1040) Position Reference Indicator        LO: ''\n",
       "(0020, 1041) Slice Location                      DS: '-78.049086662467'\n",
       "(0028, 0002) Samples per Pixel                   US: 1\n",
       "(0028, 0004) Photometric Interpretation          CS: 'MONOCHROME2'\n",
       "(0028, 0010) Rows                                US: 192\n",
       "(0028, 0011) Columns                             US: 180\n",
       "(0028, 0030) Pixel Spacing                       DS: ['1.3333333730698', '1.3333333730698']\n",
       "(0028, 0100) Bits Allocated                      US: 16\n",
       "(0028, 0101) Bits Stored                         US: 12\n",
       "(0028, 0102) High Bit                            US: 11\n",
       "(0028, 0103) Pixel Representation                US: 0\n",
       "(0028, 0106) Smallest Image Pixel Value          US: 0\n",
       "(0028, 0107) Largest Image Pixel Value           US: 2222\n",
       "(0028, 1050) Window Center                       DS: '331'\n",
       "(0028, 1051) Window Width                        DS: '743'\n",
       "(0028, 1055) Window Center & Width Explanation   LO: 'Algo1'\n",
       "(0029, 0010) Private Creator                     LO: 'SIEMENS CSA HEADER'\n",
       "(0029, 0011) Private Creator                     LO: 'SIEMENS MEDCOM HEADER2'\n",
       "(0029, 1008) [CSA Image Header Type]             CS: 'IMAGE NUM 4'\n",
       "(0029, 1009) [CSA Image Header Version]          LO: '20171024'\n",
       "(0029, 1010) [CSA Image Header Info]             OB: Array of 11132 bytes\n",
       "(0029, 1018) [CSA Series Header Type]            CS: 'MR'\n",
       "(0029, 1019) [CSA Series Header Version]         LO: '20171024'\n",
       "(0029, 1020) [CSA Series Header Info]            OB: Array of 105880 bytes\n",
       "(0029, 1160) [Series Workflow Status]            LO: 'com'\n",
       "(0040, 0244) Performed Procedure Step Start Date DA: '20171024'\n",
       "(0040, 0245) Performed Procedure Step Start Time TM: '113340.977000'\n",
       "(0040, 0253) Performed Procedure Step ID         SH: 'MR20171024113340'\n",
       "(0040, 0254) Performed Procedure Step Descriptio LO: 'PRISMA^HEAD'\n",
       "(0040, 0280) Comments on the Performed Procedure ST: ''\n",
       "(0051, 0010) Private Creator                     LO: 'SIEMENS MR HEADER'\n",
       "(0051, 1008) [CSA Image Header Type]             CS: 'IMAGE NUM 4'\n",
       "(0051, 1009) [CSA Image Header Version ??]       LO: '1.0'\n",
       "(0051, 100a) [Unknown]                           LO: 'TA 02:10'\n",
       "(0051, 100b) [AcquisitionMatrixText]             LO: '180*192'\n",
       "(0051, 100c) [Unknown]                           LO: 'FoV 240*256'\n",
       "(0051, 100d) [Unknown]                           SH: 'SP R78.0'\n",
       "(0051, 100e) [Unknown]                           LO: 'Sag>Cor(3.2)>Tra(-2.3)'\n",
       "(0051, 100f) [CoilString]                        LO: 'HEA;HEP'\n",
       "(0051, 1011) [PATModeText]                       LO: 'p2'\n",
       "(0051, 1012) [Unknown]                           SH: 'TP 0'\n",
       "(0051, 1013) [PositivePCSDirections]             SH: '+LPH'\n",
       "(0051, 1016) [Unknown]                           LO: 'p2 M/ND'\n",
       "(0051, 1017) [Unknown]                           SH: 'SL 3.0'\n",
       "(0051, 1019) [Unknown]                           LO: 'A1/IR/WE'\n",
       "(7fe0, 0010) Pixel Data                          OW: Array of 69120 bytes>"
      ]
     },
     "execution_count": 39,
     "metadata": {},
     "output_type": "execute_result"
    }
   ],
   "source": [
    "dcm.decode"
   ]
  },
  {
   "cell_type": "code",
   "execution_count": 26,
   "metadata": {},
   "outputs": [
    {
     "name": "stdout",
     "output_type": "stream",
     "text": [
      "<class 'nibabel.nifti1.Nifti1Header'> object, endian='<'\n",
      "sizeof_hdr      : 348\n",
      "data_type       : b''\n",
      "db_name         : b''\n",
      "extents         : 0\n",
      "session_error   : 0\n",
      "regular         : b''\n",
      "dim_info        : 0\n",
      "dim             : [  3 192 180  52   1   1   1   1]\n",
      "intent_p1       : 0.0\n",
      "intent_p2       : 0.0\n",
      "intent_p3       : 0.0\n",
      "intent_code     : none\n",
      "datatype        : int16\n",
      "bitpix          : 16\n",
      "slice_start     : 0\n",
      "pixdim          : [-1.          1.33333337  1.33333337  3.          1.          1.          1.\n",
      "  1.        ]\n",
      "vox_offset      : 0.0\n",
      "scl_slope       : nan\n",
      "scl_inter       : nan\n",
      "slice_end       : 0\n",
      "slice_code      : unknown\n",
      "xyzt_units      : 0\n",
      "cal_max         : 0.0\n",
      "cal_min         : 0.0\n",
      "slice_duration  : 0.0\n",
      "toffset         : 0.0\n",
      "glmax           : 0\n",
      "glmin           : 0\n",
      "descrip         : b''\n",
      "aux_file        : b''\n",
      "qform_code      : unknown\n",
      "sform_code      : aligned\n",
      "quatern_b       : -0.5239736437797546\n",
      "quatern_c       : -0.4954972565174103\n",
      "quatern_d       : 0.4759955108165741\n",
      "qoffset_x       : -88.15070343017578\n",
      "qoffset_y       : -134.38821411132812\n",
      "qoffset_z       : 59.7420539855957\n",
      "srow_x          : [  7.44286701e-02   5.34256399e-02   2.99290919e+00  -8.81507034e+01]\n",
      "srow_y          : [  1.33125436e+00  -2.98692309e-03  -1.67329594e-01  -1.34388214e+02]\n",
      "srow_z          : [  3.36729897e-08  -1.33225918e+00   1.20395407e-01   5.97420540e+01]\n",
      "intent_name     : b''\n",
      "magic           : b'n+1'\n"
     ]
    }
   ],
   "source": [
    "anat = nib.load('siemensOutput.nii.gz')\n",
    "anat_data = anat.get_data()\n",
    "anat_data.shape\n",
    "hdr = anat.header\n",
    "print(hdr)"
   ]
  },
  {
   "cell_type": "markdown",
   "metadata": {},
   "source": [
    "## Here's the affine from the WORKING saved nifti"
   ]
  },
  {
   "cell_type": "code",
   "execution_count": 47,
   "metadata": {},
   "outputs": [
    {
     "data": {
      "text/plain": [
       "(52, 180, 192)"
      ]
     },
     "execution_count": 47,
     "metadata": {},
     "output_type": "execute_result"
    }
   ],
   "source": [
    "cr_file = '20171024113341_T1w_MPR_17.nii.gz'\n",
    "cr_anat = nib.load(join(UNCdir,cr_file))\n",
    "cr_anat.shape"
   ]
  },
  {
   "cell_type": "code",
   "execution_count": 34,
   "metadata": {},
   "outputs": [
    {
     "data": {
      "text/plain": [
       "array([[   2.993,    0.074,    0.053,  -88.015],\n",
       "       [  -0.167,    1.331,   -0.003,  -94.802],\n",
       "       [  -0.12 ,   -0.   ,    1.332, -188.579],\n",
       "       [   0.   ,    0.   ,    0.   ,    1.   ]])"
      ]
     },
     "execution_count": 34,
     "metadata": {},
     "output_type": "execute_result"
    }
   ],
   "source": [
    "cr_affine = cr_anat.affine\n",
    "np.set_printoptions(precision=3, suppress=True)\n",
    "cr_affine"
   ]
  },
  {
   "cell_type": "markdown",
   "metadata": {},
   "source": [
    "### Now, try to figure out how that was created"
   ]
  },
  {
   "cell_type": "code",
   "execution_count": 45,
   "metadata": {},
   "outputs": [
    {
     "data": {
      "text/plain": [
       "array([ 0.074,  1.331,  0.   ,  0.053, -0.003, -1.332])"
      ]
     },
     "execution_count": 45,
     "metadata": {},
     "output_type": "execute_result"
    }
   ],
   "source": [
    "ImgOrientation = dcm.ImageOrientationPatient\n",
    "voxSize = dcm.PixelSpacing\n",
    "ImgOrientation = np.array(ImgOrientation)*voxSize[0]\n",
    "ImgOrientation"
   ]
  },
  {
   "cell_type": "markdown",
   "metadata": {},
   "source": [
    "This shows that cr_affine[:3,1:2] are taken directly from the ImageOrientationPatient fields multiplied by the voxSize"
   ]
  },
  {
   "cell_type": "code",
   "execution_count": 100,
   "metadata": {},
   "outputs": [
    {
     "data": {
      "text/plain": [
       "array([[   0.074,    0.053,    2.993,  -88.151],\n",
       "       [   1.331,   -0.003,   -0.167, -134.388],\n",
       "       [   0.   ,   -1.332,    0.12 ,   59.742],\n",
       "       [   0.   ,    0.   ,    0.   ,    1.   ]])"
      ]
     },
     "execution_count": 100,
     "metadata": {},
     "output_type": "execute_result"
    }
   ],
   "source": [
    "myAnat = nib.load(\"siemensOutput.nii.gz\")\n",
    "myAnat_affine = myAnat.affine\n",
    "myAnat_affine\n"
   ]
  },
  {
   "cell_type": "markdown",
   "metadata": {},
   "source": [
    "### Try to follow the dcm2nii code to recreate transform matrix"
   ]
  },
  {
   "cell_type": "code",
   "execution_count": 54,
   "metadata": {},
   "outputs": [
    {
     "data": {
      "text/plain": [
       "array([[ 0.056,  0.998],\n",
       "       [ 0.   ,  0.04 ],\n",
       "       [-0.002, -0.999]])"
      ]
     },
     "execution_count": 54,
     "metadata": {},
     "output_type": "execute_result"
    }
   ],
   "source": [
    "R = np.array(dcm.ImageOrientationPatient).reshape(3,2)\n",
    "R"
   ]
  },
  {
   "cell_type": "code",
   "execution_count": 55,
   "metadata": {},
   "outputs": [
    {
     "data": {
      "text/plain": [
       "array([[ 0.056,  0.998,  0.   ],\n",
       "       [ 0.   ,  0.04 ,  0.054],\n",
       "       [-0.002, -0.999,  0.002]])"
      ]
     },
     "execution_count": 55,
     "metadata": {},
     "output_type": "execute_result"
    }
   ],
   "source": [
    "R = np.insert(R, 2, np.cross(R[:,0], R[:,1]), axis=1)\n",
    "R"
   ]
  },
  {
   "cell_type": "code",
   "execution_count": 57,
   "metadata": {},
   "outputs": [
    {
     "data": {
      "text/plain": [
       "array([[ 0.056,  0.998,  0.   ],\n",
       "       [ 0.   ,  0.04 ,  0.054],\n",
       "       [ 0.002,  0.999,  0.002]])"
      ]
     },
     "execution_count": 57,
     "metadata": {},
     "output_type": "execute_result"
    }
   ],
   "source": [
    "foo = abs(R)\n",
    "foo"
   ]
  },
  {
   "cell_type": "code",
   "execution_count": 61,
   "metadata": {},
   "outputs": [
    {
     "data": {
      "text/plain": [
       "array([0, 2, 1])"
      ]
     },
     "execution_count": 61,
     "metadata": {},
     "output_type": "execute_result"
    }
   ],
   "source": [
    "ixyz = np.argmax(foo, axis=0)\n",
    "ixyz"
   ]
  },
  {
   "cell_type": "code",
   "execution_count": 62,
   "metadata": {},
   "outputs": [
    {
     "data": {
      "text/plain": [
       "False"
      ]
     },
     "execution_count": 62,
     "metadata": {},
     "output_type": "execute_result"
    }
   ],
   "source": [
    "ixyz[1] == ixyz[0]"
   ]
  },
  {
   "cell_type": "code",
   "execution_count": 64,
   "metadata": {},
   "outputs": [
    {
     "data": {
      "text/plain": [
       "False"
      ]
     },
     "execution_count": 64,
     "metadata": {},
     "output_type": "execute_result"
    }
   ],
   "source": [
    "np.any(ixyz[2] == ixyz[0:1])"
   ]
  },
  {
   "cell_type": "code",
   "execution_count": 65,
   "metadata": {},
   "outputs": [
    {
     "data": {
      "text/plain": [
       "1"
      ]
     },
     "execution_count": 65,
     "metadata": {},
     "output_type": "execute_result"
    }
   ],
   "source": [
    "iSL = ixyz[2]\n",
    "iSL"
   ]
  },
  {
   "cell_type": "code",
   "execution_count": 66,
   "metadata": {},
   "outputs": [
    {
     "data": {
      "text/plain": [
       "0.053539833560661526"
      ]
     },
     "execution_count": 66,
     "metadata": {},
     "output_type": "execute_result"
    }
   ],
   "source": [
    "cosSL = R[iSL, 2]\n",
    "cosSL"
   ]
  },
  {
   "cell_type": "code",
   "execution_count": 69,
   "metadata": {},
   "outputs": [
    {
     "data": {
      "text/plain": [
       "'3'"
      ]
     },
     "execution_count": 69,
     "metadata": {},
     "output_type": "execute_result"
    }
   ],
   "source": [
    "thk = dcm.SliceThickness\n",
    "thk"
   ]
  },
  {
   "cell_type": "code",
   "execution_count": 80,
   "metadata": {},
   "outputs": [
    {
     "data": {
      "text/plain": [
       "['1.3333333730698', '1.3333333730698', '3', '3']"
      ]
     },
     "execution_count": 80,
     "metadata": {},
     "output_type": "execute_result"
    }
   ],
   "source": [
    "pixDim = dcm.PixelSpacing\n",
    "pixDim"
   ]
  },
  {
   "cell_type": "code",
   "execution_count": 83,
   "metadata": {},
   "outputs": [
    {
     "data": {
      "text/plain": [
       "['1.3333333730698', '1.3333333730698', '3']"
      ]
     },
     "execution_count": 83,
     "metadata": {},
     "output_type": "execute_result"
    }
   ],
   "source": [
    "pixDim.append(thk)\n",
    "pixDim"
   ]
  },
  {
   "cell_type": "code",
   "execution_count": 85,
   "metadata": {},
   "outputs": [
    {
     "data": {
      "text/plain": [
       "array([[ 0.074,  0.   ,  0.   ],\n",
       "       [ 0.   ,  0.053,  0.   ],\n",
       "       [-0.   , -0.   ,  0.007]])"
      ]
     },
     "execution_count": 85,
     "metadata": {},
     "output_type": "execute_result"
    }
   ],
   "source": [
    "R = R * np.diag(pixDim)\n",
    "R"
   ]
  },
  {
   "cell_type": "code",
   "execution_count": 88,
   "metadata": {},
   "outputs": [
    {
     "data": {
      "text/plain": [
       "['-88.150703580322', '-134.38821883415', '59.742053192921']"
      ]
     },
     "execution_count": 88,
     "metadata": {},
     "output_type": "execute_result"
    }
   ],
   "source": [
    "ipp = dcm.ImagePositionPatient\n",
    "ipp"
   ]
  },
  {
   "cell_type": "code",
   "execution_count": 89,
   "metadata": {},
   "outputs": [
    {
     "data": {
      "text/plain": [
       "array([[ 0.074,  0.   ,  0.   ],\n",
       "       [ 0.   ,  0.053,  0.   ],\n",
       "       [-0.   , -0.   ,  0.007]])"
      ]
     },
     "execution_count": 89,
     "metadata": {},
     "output_type": "execute_result"
    }
   ],
   "source": [
    "R"
   ]
  },
  {
   "cell_type": "code",
   "execution_count": 90,
   "metadata": {},
   "outputs": [
    {
     "data": {
      "text/plain": [
       "array([0, 2, 1])"
      ]
     },
     "execution_count": 90,
     "metadata": {},
     "output_type": "execute_result"
    }
   ],
   "source": [
    "ixyz"
   ]
  },
  {
   "cell_type": "code",
   "execution_count": 86,
   "metadata": {},
   "outputs": [
    {
     "data": {
      "text/plain": [
       "array([[   2.993,    0.074,    0.053,  -88.015],\n",
       "       [  -0.167,    1.331,   -0.003,  -94.802],\n",
       "       [  -0.12 ,   -0.   ,    1.332, -188.579],\n",
       "       [   0.   ,    0.   ,    0.   ,    1.   ]])"
      ]
     },
     "execution_count": 86,
     "metadata": {},
     "output_type": "execute_result"
    }
   ],
   "source": [
    "cr_affine"
   ]
  },
  {
   "cell_type": "code",
   "execution_count": 91,
   "metadata": {},
   "outputs": [
    {
     "data": {
      "text/plain": [
       "array([[   0.074,    0.053,    2.993,  -88.151],\n",
       "       [   1.331,   -0.003,   -0.167, -134.388],\n",
       "       [   0.   ,   -1.332,    0.12 ,   59.742],\n",
       "       [   0.   ,    0.   ,    0.   ,    1.   ]])"
      ]
     },
     "execution_count": 91,
     "metadata": {},
     "output_type": "execute_result"
    }
   ],
   "source": [
    "myAnat_affine"
   ]
  },
  {
   "cell_type": "code",
   "execution_count": 92,
   "metadata": {
    "collapsed": true
   },
   "outputs": [],
   "source": [
    "test = myAnat_affine.copy()"
   ]
  },
  {
   "cell_type": "code",
   "execution_count": 102,
   "metadata": {},
   "outputs": [
    {
     "data": {
      "text/plain": [
       "array([[   2.993,    0.074,    0.053,  -88.015],\n",
       "       [  -0.167,    1.331,   -0.003,  -94.802],\n",
       "       [  -0.12 ,   -0.   ,    1.332, -188.579],\n",
       "       [   0.   ,    0.   ,    0.   ,    1.   ]])"
      ]
     },
     "execution_count": 102,
     "metadata": {},
     "output_type": "execute_result"
    }
   ],
   "source": [
    "cr_affine"
   ]
  },
  {
   "cell_type": "code",
   "execution_count": 103,
   "metadata": {},
   "outputs": [
    {
     "data": {
      "text/plain": [
       "array([[   2.993,    0.074,    0.053,  -88.151],\n",
       "       [  -0.167,    1.331,   -0.003, -134.388],\n",
       "       [  -0.12 ,    0.   ,    1.332,  -59.742],\n",
       "       [   0.   ,    0.   ,    0.   ,    1.   ]])"
      ]
     },
     "execution_count": 103,
     "metadata": {},
     "output_type": "execute_result"
    }
   ],
   "source": [
    "myAnat2 = nib.load(\"siemensOutput2.nii.gz\")\n",
    "myAnat2_affine = myAnat2.affine\n",
    "myAnat2_affine"
   ]
  },
  {
   "cell_type": "code",
   "execution_count": 118,
   "metadata": {},
   "outputs": [
    {
     "data": {
      "text/plain": [
       "<matplotlib.image.AxesImage at 0x10d173a20>"
      ]
     },
     "execution_count": 118,
     "metadata": {},
     "output_type": "execute_result"
    },
    {
     "data": {
      "image/png": "[encoded data removed]",
      "text/plain": [
       "<matplotlib.figure.Figure at 0x10d092e48>"
      ]
     },
     "metadata": {},
     "output_type": "display_data"
    }
   ],
   "source": [
    "pylab.imshow(cr_anat.get_data()[:,:,100], cmap='bone')"
   ]
  },
  {
   "cell_type": "code",
   "execution_count": 119,
   "metadata": {},
   "outputs": [
    {
     "data": {
      "text/plain": [
       "<matplotlib.image.AxesImage at 0x10d248d30>"
      ]
     },
     "execution_count": 119,
     "metadata": {},
     "output_type": "execute_result"
    },
    {
     "data": {
      "image/png": "[encoded data removed]",
      "text/plain": [
       "<matplotlib.figure.Figure at 0x10c1ea080>"
      ]
     },
     "metadata": {},
     "output_type": "display_data"
    }
   ],
   "source": [
    "pylab.imshow(myAnat2.get_data()[:,:,130], cmap='bone')"
   ]
  },
  {
   "cell_type": "markdown",
   "metadata": {},
   "source": [
    "### Notes:\n",
    "In the CR data, the data is reoriented such that the voxel coords [0,0,0] correspond to RAS+ space. \n",
    "In my data, the image is oriented such that voxel coors [0,0,0] correspond to LPI. NEED TO FIX THIS.\n",
    "ALSO, the affine transform is cloe"
   ]
  },
  {
   "cell_type": "code",
   "execution_count": 109,
   "metadata": {},
   "outputs": [
    {
     "data": {
      "text/plain": [
       "(52, 180, 192)"
      ]
     },
     "execution_count": 109,
     "metadata": {},
     "output_type": "execute_result"
    }
   ],
   "source": [
    "cr_anat.shape"
   ]
  },
  {
   "cell_type": "code",
   "execution_count": 34,
   "metadata": {
    "collapsed": true
   },
   "outputs": [],
   "source": [
    "from ipywidgets import interact\n",
    "\n",
    "def display_sequence(images):\n",
    "    def _show(frame=(0, len(images)-1)):\n",
    "        return display_image(images[frame])\n",
    "    return interact(_show)\n",
    "\n",
    "def display_image(x):\n",
    "    x_scaled = np.uint8(255 * (x / anat_data.max()))\n",
    "    return Image.fromarray(x_scaled)"
   ]
  },
  {
   "cell_type": "code",
   "execution_count": 38,
   "metadata": {},
   "outputs": [
    {
     "data": {
      "application/vnd.jupyter.widget-view+json": {
       "model_id": "f566ac94c2754ea89738b74953b3b1d1",
       "version_major": 2,
       "version_minor": 0
      },
      "text/html": [
       "<p>Failed to display Jupyter Widget of type <code>interactive</code>.</p>\n",
       "<p>\n",
       "  If you're reading this message in Jupyter Notebook or JupyterLab, it may mean\n",
       "  that the widgets JavaScript is still loading. If this message persists, it\n",
       "  likely means that the widgets JavaScript library is either not installed or\n",
       "  not enabled. See the <a href=\"https://ipywidgets.readthedocs.io/en/stable/user_install.html\">Jupyter\n",
       "  Widgets Documentation</a> for setup instructions.\n",
       "</p>\n",
       "<p>\n",
       "  If you're reading this message in another notebook frontend (for example, a static\n",
       "  rendering on GitHub or <a href=\"https://nbviewer.jupyter.org/\">NBViewer</a>),\n",
       "  it may mean that your frontend doesn't currently support widgets.\n",
       "</p>\n"
      ],
      "text/plain": [
       "interactive(children=(IntSlider(value=95, description='frame', max=191), Output()), _dom_classes=('widget-interact',))"
      ]
     },
     "metadata": {},
     "output_type": "display_data"
    },
    {
     "data": {
      "text/plain": [
       "<function __main__.display_sequence.<locals>._show>"
      ]
     },
     "execution_count": 38,
     "metadata": {},
     "output_type": "execute_result"
    }
   ],
   "source": [
    "# image manipulation\n",
    "anat_data = anat.get_data()\n",
    "anat_data = np.rot90(anat_data, axes=(0,2))\n",
    "#anat_data = np.rot90(anat_data, k=2, axes=(0,1))\n",
    "\n",
    "slices = []\n",
    "for i in range(anat_data.shape[2]):\n",
    "    slices.append(anat_data[:,:,i])\n",
    "display_sequence(slices)"
   ]
  }
 ],
 "metadata": {
  "kernelspec": {
   "display_name": "Python 3",
   "language": "python",
   "name": "python3"
  },
  "language_info": {
   "codemirror_mode": {
    "name": "ipython",
    "version": 3
   },
   "file_extension": ".py",
   "mimetype": "text/x-python",
   "name": "python",
   "nbconvert_exporter": "python",
   "pygments_lexer": "ipython3",
   "version": "3.6.0"
  }
 },
 "nbformat": 4,
 "nbformat_minor": 2
}
